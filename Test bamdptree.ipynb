{
 "cells": [
  {
   "cell_type": "code",
   "execution_count": null,
   "id": "recognized-receipt",
   "metadata": {},
   "outputs": [],
   "source": [
    "%load_ext autoreload\n",
    "%autoreload 2"
   ]
  },
  {
   "cell_type": "code",
   "execution_count": null,
   "id": "dominican-anchor",
   "metadata": {},
   "outputs": [],
   "source": [
    "\n",
    "from cuttingplane import cutting_plane, get_initial_constraints, plot_all\n",
    "import numpy as np\n",
    "from TreeSearchBAMDP import Node, TreeSearch\n",
    "from bamdp import BAMDP\n",
    "from environments import get_environment\n",
    "import copy\n",
    "\n",
    "from MDPUtils import valueIteration\n",
    "from cutting_mdp import tangent, get_bayes_optimal_value"
   ]
  },
  {
   "cell_type": "code",
   "execution_count": null,
   "id": "valuable-dictionary",
   "metadata": {},
   "outputs": [],
   "source": [
    "    np.random.seed(123)\n",
    "    dim, states, actions, mdpList, rewards, transitions = get_environment(\"random\")\n",
    "    epsilon = 0.0\n",
    "    delta = 0.02\n",
    "    gamma = 0.9\n",
    "    discount = gamma\n",
    "    state_id = 0\n",
    "    H = 4\n",
    "\n",
    "    constraints, b_ub = get_initial_constraints(dim)\n",
    "\n",
    "    bamdp = BAMDP(range(states), range(actions), rewards, transitions, mdpList, discount, horizon=H)\n",
    "\n"
   ]
  },
  {
   "cell_type": "code",
   "execution_count": null,
   "id": "fifteen-ethics",
   "metadata": {},
   "outputs": [],
   "source": []
  },
  {
   "cell_type": "code",
   "execution_count": null,
   "id": "binding-analysis",
   "metadata": {},
   "outputs": [],
   "source": [
    "for i in range(dim+1):\n",
    "    beta = np.zeros(dim+1)\n",
    "    print(\"MDP\", i)\n",
    "    beta[i] = 1\n",
    "    assert np.sum(beta)==1\n",
    "    node = Node(bamdp, state_id, dict(enumerate(beta)))\n",
    "    tree = TreeSearch(bamdp, node)\n",
    "    tree.search()\n",
    "    tree.Eval_VI()\n",
    "    bv = valueIteration(bamdp,i)[0][0]\n",
    "    print(\"BV\", bv)\n",
    "    print(node.otherdata['V'])\n",
    "    print(\"Regret: \", bv-node.otherdata['V'])\n",
    "    "
   ]
  },
  {
   "cell_type": "code",
   "execution_count": null,
   "id": "quiet-inspection",
   "metadata": {},
   "outputs": [],
   "source": [
    "    beta = np.zeros(dim+1)\n",
    "    print(\"MDP\", i)\n",
    "    beta[0] = 1/2\n",
    "    beta[1] = 1/2\n",
    "    assert np.sum(beta)==1\n",
    "    node = Node(bamdp, state_id, dict(enumerate(beta)))\n",
    "    tree = TreeSearch(bamdp, node)\n",
    "    tree.search()\n",
    "    tree.Eval_VI()\n",
    "    bv = np.array([valueIteration(bamdp,i)[0][0] for i in mdpList])\n",
    "    print(beta, bv)\n",
    "    print(\"BV\", bv)\n",
    "    print(node.otherdata['V'])\n",
    "    print(\"Regret: \", bv@beta-node.otherdata['V'])\n",
    "    "
   ]
  },
  {
   "cell_type": "code",
   "execution_count": null,
   "id": "brave-complement",
   "metadata": {},
   "outputs": [],
   "source": []
  }
 ],
 "metadata": {
  "kernelspec": {
   "display_name": "Python 3",
   "language": "python",
   "name": "python3"
  },
  "language_info": {
   "codemirror_mode": {
    "name": "ipython",
    "version": 3
   },
   "file_extension": ".py",
   "mimetype": "text/x-python",
   "name": "python",
   "nbconvert_exporter": "python",
   "pygments_lexer": "ipython3",
   "version": "3.6.13"
  }
 },
 "nbformat": 4,
 "nbformat_minor": 5
}
